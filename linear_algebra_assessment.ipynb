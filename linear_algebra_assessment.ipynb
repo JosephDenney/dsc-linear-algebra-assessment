{
 "cells": [
  {
   "cell_type": "markdown",
   "metadata": {},
   "source": [
    "# Assessments\n",
    "YW\n",
    "* write a function to find the mean of a list of numbers\n",
    "* write a function that calculates a dot product\n",
    "* write a function that centers an array on the mean \n",
    "* write a function to calculate the standard deviation of a list of a numbers (preferably using a dot product)\n",
    "* write a function to calculate the correlation and covariance of two lists\n",
    "* write a function to calculate the cost between ytrue and ypred"
   ]
  },
  {
   "cell_type": "code",
   "execution_count": 72,
   "metadata": {},
   "outputs": [
    {
     "data": {
      "text/plain": [
       "12"
      ]
     },
     "execution_count": 72,
     "metadata": {},
     "output_type": "execute_result"
    }
   ],
   "source": [
    "import math\n",
    "import numpy as np\n",
    "from statistics import stdev as std\n",
    "\n",
    "tirepressures = [0,2,4,6,8,10,12]\n",
    "rqpressures = [1,2,3,4,5,2,3]\n",
    "\n",
    "def get_mean(lst1):\n",
    "    return sum(lst1)/len(lst1)\n",
    "\n",
    "def mean_center(lst1):\n",
    "    mean = get_mean(lst1)\n",
    "    a = [i - mean for i in lst1]\n",
    "    return a\n",
    "\n",
    "def get_dot_product(lst1, lst2):\n",
    "    if len(lst1)!=len(lst2):\n",
    "        raise Exception(\"Unequal lengths\")\n",
    "        return None\n",
    "    dp = 0\n",
    "    for i in range(len(lst1)):\n",
    "        p = lst1[i] * lst2[i]\n",
    "        dp += p\n",
    "    return dp\n",
    "\n",
    "get_dot_product([2,3],[3,2])"
   ]
  },
  {
   "cell_type": "markdown",
   "metadata": {},
   "source": [
    "# Standard Deviation Formula\n",
    "![](images/standard-deviation.png)"
   ]
  },
  {
   "cell_type": "code",
   "execution_count": 65,
   "metadata": {
    "scrolled": true
   },
   "outputs": [
    {
     "name": "stdout",
     "output_type": "stream",
     "text": [
      "4.320493798938574\n"
     ]
    },
    {
     "data": {
      "text/plain": [
       "4.320493798938574"
      ]
     },
     "execution_count": 65,
     "metadata": {},
     "output_type": "execute_result"
    }
   ],
   "source": [
    "def get_standard_deviation(lst1):\n",
    "    sm = 0\n",
    "    mean = get_mean(lst1)\n",
    "    for i in lst1:\n",
    "        sm += abs((i - mean))*abs((i - mean))\n",
    "        \n",
    "    variance = sm/(len(lst1)-1)\n",
    "    return math.sqrt(variance)\n",
    "\n",
    "\n",
    "print(standard_deviation(tirepressures)) # formula check\n",
    "std(tirepressures)\n"
   ]
  },
  {
   "cell_type": "code",
   "execution_count": null,
   "metadata": {},
   "outputs": [],
   "source": []
  },
  {
   "cell_type": "markdown",
   "metadata": {},
   "source": [
    "# Covariance Formula\n",
    "![](images/covariance.png)"
   ]
  },
  {
   "cell_type": "code",
   "execution_count": 66,
   "metadata": {},
   "outputs": [
    {
     "data": {
      "text/plain": [
       "2.666666666666666"
      ]
     },
     "execution_count": 66,
     "metadata": {},
     "output_type": "execute_result"
    }
   ],
   "source": [
    "def get_covariance(lst1, lst2):\n",
    "    smcovar = 0\n",
    "    if len(lst1)!=len(lst2):\n",
    "        raise Exception(\"Unequal lengths\")\n",
    "        return None\n",
    "    \n",
    "    lst1_cent = mean_center(lst1)\n",
    "    lst2_cent = mean_center(lst2)\n",
    "    numerator = get_dot_product(lst1_cent,lst2_cent)\n",
    "    return numerator/(len(lst1)-1)    \n",
    "\n",
    "get_covariance(rqpressures, tirepressures)"
   ]
  },
  {
   "cell_type": "markdown",
   "metadata": {},
   "source": [
    "# Correlation Formula\n",
    "![](images/correlation.png)"
   ]
  },
  {
   "cell_type": "code",
   "execution_count": 71,
   "metadata": {},
   "outputs": [
    {
     "data": {
      "text/plain": [
       "0.4588314677411235"
      ]
     },
     "execution_count": 71,
     "metadata": {},
     "output_type": "execute_result"
    }
   ],
   "source": [
    "def get_corr(lst1,lst2):\n",
    "    lst1_cent = mean_center(lst1)\n",
    "    lst2_cent = mean_center(lst2)\n",
    "    numerator = get_dot_product(lst1_cent,lst2_cent)\n",
    "    denominator = get_dot_product(lst1_cent,lst1_cent)*get_dot_product(lst2_cent,lst2_cent)\n",
    "    denominator = denominator**0.5\n",
    "    return numerator/denominator\n",
    "\n",
    "get_corr(rqpressures, tirepressures)"
   ]
  },
  {
   "cell_type": "markdown",
   "metadata": {},
   "source": [
    "# RMSE Formula\n",
    "![](images/rmse.png)"
   ]
  },
  {
   "cell_type": "code",
   "execution_count": 81,
   "metadata": {},
   "outputs": [],
   "source": [
    "def rmse(ytrue, ypred):\n",
    "    differences_squared = 0\n",
    "    if len(ytrue)!=len(ypred):\n",
    "        raise Exception(\"Unequal lengths\")\n",
    "        return None\n",
    "    \n",
    "    for i in len(ytrue):\n",
    "        diff = (ypred[i] - ytrue[i])\n",
    "        differences_squared += diff ** 2 \n",
    "    \n",
    "    mean_of_diff_squared = differences_squared/(len(ytrue)-1)\n",
    "    \n",
    "    rmse_val = np.sqrt(mean_of_diff_squared)\n",
    "    \n",
    "    return rmse_val\n"
   ]
  },
  {
   "cell_type": "markdown",
   "metadata": {},
   "source": [
    "# RSS Formula \n",
    "![](images/rss.png)"
   ]
  },
  {
   "cell_type": "code",
   "execution_count": 80,
   "metadata": {},
   "outputs": [],
   "source": [
    "def rss(ytrue, ypred):\n",
    "    differences_squared = 0\n",
    "    if len(ytrue)!=len(ypred):\n",
    "        raise Exception(\"Unequal lengths\")\n",
    "        return None\n",
    "    \n",
    "    for i in len(ytrue):\n",
    "        diff = (ytrue[i] - ypred[i])\n",
    "        differences_squared += diff ** 2 \n",
    "    \n",
    "    rss_val = differences_squared\n",
    "        \n",
    "    return rss_val"
   ]
  },
  {
   "cell_type": "code",
   "execution_count": null,
   "metadata": {},
   "outputs": [],
   "source": []
  }
 ],
 "metadata": {
  "kernelspec": {
   "display_name": "Python 3",
   "language": "python",
   "name": "python3"
  },
  "language_info": {
   "codemirror_mode": {
    "name": "ipython",
    "version": 3
   },
   "file_extension": ".py",
   "mimetype": "text/x-python",
   "name": "python",
   "nbconvert_exporter": "python",
   "pygments_lexer": "ipython3",
   "version": "3.8.3"
  }
 },
 "nbformat": 4,
 "nbformat_minor": 4
}
